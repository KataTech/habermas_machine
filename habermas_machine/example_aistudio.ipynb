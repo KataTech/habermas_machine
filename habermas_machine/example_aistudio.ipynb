{
  "cells": [
    {
      "cell_type": "markdown",
      "metadata": {
        "id": "gEWU3BUzd3z6"
      },
      "source": [
        "# Gemini-based Habermas Machine via AI Studio\n",
        "\n",
        "The purpose of this notebook is to demonstrate the workings of the Habermas Machine, using publicly accessible models rather than the custom fine-tuned model. The Habermas Machine was introduced in this paper:\n",
        "\n",
        "Tessler, M. H., Bakker, M. A., Jarrett D., Sheahan, H., Chadwick, M. J., Koster, R., Evans, G., Campbell-Gillingham, J., Collins, T., Parkes, D. C., Botvinick, M., and Summerfield, C. \"AI can help humans find common ground in democratic deliberation.\" Science. (2024).\n",
        "\n",
        "All parameters can be adjusted but as default this example uses:\n",
        "\n",
        "*   Gemini 1.5 Flash via AIStudio\n",
        "*   Chain-of-thought statement and ranking model\n",
        "*   5 participants and 4 candidate statements\n",
        "*   Example data from Table S50 (p. 265) in the Supplementary Materials.\n",
        "*   The Habermas Machine is set to verbose mode.\n",
        "\n",
        "In this example, we overwrite the winner from the opinion round with the winner in the actual experiment to demonstrate how the critiquing works from our real example. However, when you use your own opinions and critiques, this can be turned off."
      ]
    },
    {
      "cell_type": "markdown",
      "metadata": {
        "id": "5eRjrkiagYWh"
      },
      "source": [
        "# Setup and Importing Packages"
      ]
    },
    {
      "cell_type": "code",
      "execution_count": null,
      "metadata": {
        "id": "xksSutDwG7z8"
      },
      "outputs": [],
      "source": [
        "# Install dependencies from github.\n",
        "!pip install --upgrade git+https://github.com/google-deepmind/habermas_machine.git\n",
        "\n",
        "import os\n",
        "\n",
        "from habermas_machine import habermas_machine\n",
        "from habermas_machine import types\n",
        "from habermas_machine.social_choice import utils as sc_utils\n",
        "from habermas_machine.statement_model import cot_model\n",
        "from habermas_machine.reward_model import cot_ranking_model\n",
        "\n",
      ]
    },
    {
      "cell_type": "markdown",
      "metadata": {
        "id": "w9MmXHjEgg-r"
      },
      "source": [
        "# Configuration"
      ]
    },
    {
      "cell_type": "code",
      "execution_count": null,
      "metadata": {
        "id": "QlYC-M2t-_Tb"
      },
      "outputs": [],
      "source": [
        "# Get API keys from https://aistudio.google.com/app/apikey\n",
        "os.environ['GOOGLE_API_KEY'] = ''"
      ]
    },
    {
      "cell_type": "code",
      "execution_count": null,
      "metadata": {
        "id": "U_NdMSIUYWP2"
      },
      "outputs": [],
      "source": [
        "QUESTION = 'Should the government provide universal free childcare from birth?'\n",
        "NUM_CITIZENS = 5\n",
        "NUM_CANDIDATES = 4\n",
        "MODEL = 'gemini-1.5-flash'\n",
        "\n",
        "statement_client = types.LLMCLient.AISTUDIO.get_client(MODEL)\n",
        "reward_client = types.LLMCLient.AISTUDIO.get_client(MODEL)\n",
        "\n",
        "statement_model = types.StatementModel.CHAIN_OF_THOUGHT.get_model()\n",
        "reward_model = types.RewardModel.CHAIN_OF_THOUGHT_RANKING.get_model()\n",
        "social_choice_method = types.RankAggregation.SCHULZE.get_method(\n",
        "    tie_breaking_method=sc_utils.TieBreakingMethod.TBRC\n",
        ")"
      ]
    },
    {
      "cell_type": "markdown",
      "metadata": {
        "id": "dCoV3y4pg_oc"
      },
      "source": [
        "# Initialize the Habermas Machine"
      ]
    },
    {
      "cell_type": "code",
      "execution_count": null,
      "metadata": {
        "id": "SibjZ1wBdHJj"
      },
      "outputs": [],
      "source": [
        "hm = habermas_machine.HabermasMachine(\n",
        "        question=QUESTION,\n",
        "        statement_client=statement_client,\n",
        "        reward_client=reward_client,\n",
        "        statement_model=statement_model,\n",
        "        reward_model=reward_model,\n",
        "        social_choice_method=social_choice_method,\n",
        "        num_candidates=NUM_CANDIDATES,\n",
        "        num_citizens=NUM_CITIZENS,\n",
        "        verbose=True,\n",
        ")"
      ]
    },
    {
      "cell_type": "markdown",
      "metadata": {
        "id": "wShImCzHhFP1"
      },
      "source": [
        "# Opinion round"
      ]
    },
    {
      "cell_type": "code",
      "execution_count": null,
      "metadata": {
        "id": "LUCHB7yvVXlA"
      },
      "outputs": [],
      "source": [
        "OPINIONS = [\n",
        "    (\n",
        "        \"The government should provide universal free childcare, but not\"\n",
        "        \" necessarily from birth. High quality childcare allows parents to\"\n",
        "        \" work, making use of their skills and experience and contributing to\"\n",
        "        \" the economy. It also provides children with a positive environment in\"\n",
        "        \" which to learn and to develop social skills. However, I do not\"\n",
        "        \" necessarily support providing this childcare from birth. Babies\"\n",
        "        \" benefit from having a consistent primary caregiver in their early\"\n",
        "        \" months, and parents benefit from the opportunity to bond with their\"\n",
        "        \" babies and to recover from the physical changes caused by birth and\"\n",
        "        \" from the social changes caused by having a new family member. For\"\n",
        "        \" this reason, I would support the government providing universal paid\"\n",
        "        \" parental leave from birth, and providing universal free childcare\"\n",
        "        \" from, say, 6 months old. I would also offer parents the opportunity\"\n",
        "        \" to either use free childcare between 6 months and 1 year, or to have\"\n",
        "        \" paid parental leave for the same period.\"\n",
        "    ),\n",
        "    (\n",
        "        \"I do not think that there should be universal free childcare,  I think\"\n",
        "        \" free childcare places should be targeted at the people who cannot\"\n",
        "        \" afford to pay for childcare, to encourage them back into the\"\n",
        "        \" workplace. I think that some free childcare should be available to\"\n",
        "        \" all children once they reach three, as long as it is in a setting\"\n",
        "        \" which provides education as well as childcare.\"\n",
        "    ),\n",
        "    (\n",
        "        \"Given that most parents both need to work, in most instances free\"\n",
        "        \" childcare would be of a huge advantage to younger demographic groups.\"\n",
        "        \" Although a number of the gender barriers have been broken down there\"\n",
        "        \" are still differences in employment between men and women. On average\"\n",
        "        \" men earn more than women. As a consequence it is more difficult to a\"\n",
        "        \" man to be the main carer for children. It is also more stigmatised\"\n",
        "        \" for men to be the main carers. Sort out these issues and there would\"\n",
        "        \" be less need for child care. until then the cost of childcare can be\"\n",
        "        \" disproportionate to the amount a parent is able to earn. In most\"\n",
        "        \" cases drop off and pick up are the same times as the working day and\"\n",
        "        \" mean that they are shortened. Whoever picks up nd drops off need\"\n",
        "        \" special hours from their employer which can mean limitations to their\"\n",
        "        \" career growth.\"\n",
        "    ),\n",
        "    (\n",
        "        \"Parents often struggle in the years between maternity leave finishing\"\n",
        "        \" and the start of free childcare, especially in high cost of living\"\n",
        "        \" areas. Often, one parent (usually the mother) has to give up work or\"\n",
        "        \" reduce hours in order to provide childcare. This has a long term\"\n",
        "        \" impact on the family as it impacts the caregiver's future earning\"\n",
        "        \" potential as well as the family's immediate income. Often families\"\n",
        "        \" feel forced into this situation because childcare costs are so high,\"\n",
        "        \" and may not even cover all of the hours that the parents work so they\"\n",
        "        \" have to pay extra to cover those additional hours. It would be good\"\n",
        "        \" to offer stay at home parents the option of free childcare from birth\"\n",
        "        \" or a basic income if they would prefer to stay at home with the\"\n",
        "        \" child\"\n",
        "    ),\n",
        "    (\n",
        "        \"Childcare is a very important aspect of a healthy society. In many\"\n",
        "        \" parts of the world the extended family helps with childcare but in\"\n",
        "        \" the UK this is not always possible and parents can be put under\"\n",
        "        \" enormous pressure to look after young children and contribute to\"\n",
        "        \" wider society. Having support in place for families with children is\"\n",
        "        \" good for the parents and also the communities they are part of. The\"\n",
        "        \" current state of the economy and the cost of living means that often\"\n",
        "        \" both parents may have to work but when that is not the case, having\"\n",
        "        \" downtime from raising a child is good for parental mental health.\"\n",
        "    ),\n",
        "]"
      ]
    },
    {
      "cell_type": "code",
      "execution_count": null,
      "metadata": {
        "id": "jnDJPaTuV5vb"
      },
      "outputs": [],
      "source": [
        "winner, sorted_statements = hm.mediate(OPINIONS)"
      ]
    },
    {
      "cell_type": "code",
      "execution_count": null,
      "metadata": {
        "id": "YxA6WZG0c6Zk"
      },
      "outputs": [],
      "source": [
        "print('Opinion round winner:')\n",
        "print(winner)\n",
        "\n",
        "# Uncomment to see the sorted statements.\n",
        "# print('Opinion round sorted statements')\n",
        "# for statement in sorted_statements:\n",
        "#   print(statement)"
      ]
    },
    {
      "cell_type": "markdown",
      "metadata": {
        "id": "MokNANGL-7bF"
      },
      "source": [
        "# Overwrite winner (set to False to turn off)."
      ]
    },
    {
      "cell_type": "code",
      "execution_count": null,
      "metadata": {
        "id": "EWqfzw2x-6cW"
      },
      "outputs": [],
      "source": [
        "OVERWRITE_WINNER = True\n",
        "HARDCODED_WINNER = (\n",
        "    \"In general, free childcare is a good thing, but it is important to\"\n",
        "    \" consider how it is provided and for which age groups. We feel that it is\"\n",
        "    \" important to offer support to parents in the form of parental leave, and\"\n",
        "    \" that this should be available to both parents. In addition, we feel that\"\n",
        "    \" free childcare should be provided from a young age, and that it should be\"\n",
        "    \" provided in a way that supports children's development and learning, and\"\n",
        "    \" not just as a childminding service. However, we do not feel that free\"\n",
        "    \" childcare should be provided from birth, as we feel that it is important\"\n",
        "    \" for babies to have a consistent primary caregiver in their early months.\"\n",
        "    \" For this reason, we would support the government providing universal paid\"\n",
        "    \" parental leave from birth, and providing universal free childcare from,\"\n",
        "    \" say, 6 months old. We would also offer parents the opportunity to either\"\n",
        "    \" use free childcare between 6 months and 1 year, or to have paid parental\"\n",
        "    \" leave for the same period.\"\n",
        ")\n",
        "if OVERWRITE_WINNER:\n",
        "  hm.overwrite_previous_winner(HARDCODED_WINNER)"
      ]
    },
    {
      "cell_type": "markdown",
      "metadata": {
        "id": "kgqaNgW33nVq"
      },
      "source": [
        "# Critique round"
      ]
    },
    {
      "cell_type": "code",
      "execution_count": null,
      "metadata": {
        "id": "kHjliGIJdC96"
      },
      "outputs": [],
      "source": [
        "CRITIQUES = [\n",
        "    (\n",
        "        \"I agree with the arguments. I would add that we support parents being\"\n",
        "        \" able to access paid childcare from birth if they need it - just not\"\n",
        "        \" providing universal free childcare from birth.\"\n",
        "    ),\n",
        "    (\n",
        "        \"I do not agree that free childcare should be available from an early\"\n",
        "        \" age but I do agree that any childcare should enhance a child's\"\n",
        "        \" learning and development.  The idea of additional paid paternity\"\n",
        "        \" leave is a good one, but if the additional costs are not covered by\"\n",
        "        \" the government the could be crippling for small businesses.\"\n",
        "    ),\n",
        "    \"This is very good\\nBut can we add something about being irrespective\",\n",
        "    (\n",
        "        \"It's important to consider what form the free childcare would take and\"\n",
        "        \" how many hours would be provided for free, it has to be enough to\"\n",
        "        \" make going back to work worthwhile for the parent. Likewise, the paid\"\n",
        "        \" parental leave needs to be a sufficient enough sum that the family\"\n",
        "        \" can have a decent quality of life\"\n",
        "    ),\n",
        "    (\n",
        "        \"I agree that the care should not just be a childminding service and it\"\n",
        "        \" should support children's development. Universal paid parental leave\"\n",
        "        \" is an excellent idea. The option to exchange childcare for parental\"\n",
        "        \" leave is also a great idea.\"\n",
        "    ),\n",
        "]"
      ]
    },
    {
      "cell_type": "code",
      "execution_count": null,
      "metadata": {
        "id": "pfBpaNdSBwR_"
      },
      "outputs": [],
      "source": [
        "winner, sorted_statements = hm.mediate(CRITIQUES)"
      ]
    },
    {
      "cell_type": "code",
      "execution_count": null,
      "metadata": {
        "id": "a26ObGmpBzGa"
      },
      "outputs": [],
      "source": [
        "print('Critique round winner:')\n",
        "print(winner)\n",
        "\n",
        "# Uncomment to see the sorted statements.\n",
        "# print('Critique round sorted statements')\n",
        "# for statement in sorted_statements:\n",
        "#   print(statement)\n"
      ]
    }
  ],
  "metadata": {
    "colab": {
      "last_runtime": {
        "build_target": "//learning/deepmind/dm_python:dm_notebook3",
        "kind": "private"
      },
      "private_outputs": true,
      "provenance": [
        {
          "file_id": "/piper/depot/google3/learning/deepmind/research/beneficial_rl/projects/habermas/open_source/habermas_machine/example.ipynb?workspaceId=miba:habermas_os::citc",
          "timestamp": 1736725975304
        },
        {
          "file_id": "1t91kYjeOhlC-Qkat3nu-OOVOl3Zn1CmF",
          "timestamp": 1732501962752
        }
      ]
    },
    "kernelspec": {
      "display_name": "Python 3",
      "name": "python3"
    },
    "language_info": {
      "name": "python"
    }
  },
  "nbformat": 4,
  "nbformat_minor": 0
}
